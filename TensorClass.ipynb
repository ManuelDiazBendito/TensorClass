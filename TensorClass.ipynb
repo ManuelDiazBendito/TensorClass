{
 "cells": [
  {
   "cell_type": "markdown",
   "id": "6e3e19c7",
   "metadata": {},
   "source": [
    "# Problem Statement"
   ]
  },
  {
   "cell_type": "code",
   "execution_count": null,
   "id": "a84aa000",
   "metadata": {},
   "outputs": [],
   "source": [
    "\"\"\"\n",
    "Using Python, construct a class without importing any modules given the following guidelines:\n",
    "    Given 2 inputs, data and shape, construct a tensor using nested lists.\n",
    "    A tensor a general term for n-dimension matrix. (order goes scalar, vector, matrix, tensor)\n",
    "    Data and shape inputs are given as lists of numbers. Data can be any number (int or float), but shape needs to be a list of positive integers.\n",
    "    Data and shape inputs can be lists of any length.\n",
    "    The constructed tensor can be saved as an instance variable, printed in standard output, or both.\n",
    "    If too many data numbers, cut it off after the tensor fills up. If not enough, pad the tensor w/ zeroes.\n",
    "    Output an empty list if the shape given is also an empty list ([])\n",
    "    \n",
    "Sample input:\n",
    ">>> data0 = [0, 1, 2, 3, 4, 5, 0.1, 0.2, -3]\n",
    ">>> shape0 = [2, 3, 2]\n",
    ">>> tensor0 = Tensor(data0, shape0)\n",
    "Output: [[[0, 1], [2, 3], [4, 5]], [[0.1, 0.2], [-3, 0], [0, 0]]]\n",
    "\n",
    ">>> data1 = [0, 1, 2, 3, 4, 5, 0.1, 0.2, -3, -2, -1, 3, 2, 1]\n",
    ">>> shape1 = [5, 2]\n",
    ">>> tensor1 = Tensor(data1, shape1)\n",
    "Output: [[0, 1], [2, 3], [4, 5], [0.1, 0.2], [-3, -2]]\n",
    "\"\"\""
   ]
  },
  {
   "cell_type": "code",
   "execution_count": 1,
   "id": "0f269d5d",
   "metadata": {},
   "outputs": [],
   "source": [
    "# Esto es una prueba de un stage y commit"
   ]
  },
  {
   "cell_type": "markdown",
   "id": "0cff45b8",
   "metadata": {},
   "source": [
    "# Tensor Class Definition"
   ]
  },
  {
   "cell_type": "code",
   "execution_count": 2,
   "id": "ebc1974f",
   "metadata": {},
   "outputs": [],
   "source": [
    "class Tensor():\n",
    "    \n",
    "    #Init class:\n",
    "    def __init__(self, data, shape):\n",
    "        self.data = data\n",
    "        self.shape = shape\n",
    "        #Call Reshape method:\n",
    "        self.reshape()\n",
    "        \n",
    "    def reshape(self):\n",
    "        #If dimension is 1, return input list as tensor:\n",
    "        if len(self.shape) == 1:\n",
    "            self.tensor = self.data\n",
    "        #If not, calculate tensor:\n",
    "        else:\n",
    "            #Get number of elements of tensor\n",
    "            dim = 1\n",
    "            for i in range(len(self.shape)):\n",
    "                dim = dim*self.shape[i]\n",
    "            data = [0]*dim\n",
    "            \n",
    "            #Resize data:\n",
    "            if len(data) >= len(self.data):\n",
    "                data[0:len(self.data)] = self.data\n",
    "            else:\n",
    "                data = self.data[0:len(data)]\n",
    "            \n",
    "            #Recursively calculate tensor\n",
    "            self.tensor = self.calc_tensor(data,self.shape)\n",
    "            self.tensor = self.tensor[0]\n",
    "            print(\"Final tensor is:\")\n",
    "            print(self.tensor)\n",
    "            \n",
    "    #Recursive method to calculate tensor:\n",
    "    def calc_tensor(self,data,shape):\n",
    "        #Initialize final tensor:\n",
    "        tensor = []\n",
    "        #Check if we have finished:\n",
    "        if len(shape) > 0:\n",
    "            #Take elements as in shape:\n",
    "            idx = 0\n",
    "            while (idx+shape[len(shape)-1]) <= len(data):\n",
    "                tensor.append(data[idx:(idx+shape[len(shape)-1])])\n",
    "                idx = idx + shape[len(shape)-1]\n",
    "            #Call recursive function again\n",
    "            tensor = self.calc_tensor(tensor,shape[0:len(shape)-1])\n",
    "            return tensor\n",
    "        else:\n",
    "            #We have finished:\n",
    "            return data\n",
    "        \n",
    "    #Repr funciton:\n",
    "    def __repr__(self):\n",
    "        rep = 'Tensor(' + str(self.tensor) + ')'\n",
    "        return rep     "
   ]
  },
  {
   "cell_type": "markdown",
   "id": "6cbc59a1",
   "metadata": {},
   "source": [
    "# Examples provided"
   ]
  },
  {
   "cell_type": "code",
   "execution_count": 3,
   "id": "4b63df93",
   "metadata": {},
   "outputs": [
    {
     "name": "stdout",
     "output_type": "stream",
     "text": [
      "Final tensor is:\n",
      "[[[0, 1], [2, 3], [4, 5]], [[0.1, 0.2], [-3, 0], [0, 0]]]\n"
     ]
    }
   ],
   "source": [
    "data0 = [0, 1, 2, 3, 4, 5, 0.1, 0.2, -3]\n",
    "shape0 = [2, 3, 2]\n",
    "tensor0 = Tensor(data0, shape0)"
   ]
  },
  {
   "cell_type": "code",
   "execution_count": 4,
   "id": "21452598",
   "metadata": {},
   "outputs": [
    {
     "name": "stdout",
     "output_type": "stream",
     "text": [
      "Final tensor is:\n",
      "[[0, 1], [2, 3], [4, 5], [0.1, 0.2], [-3, -2]]\n"
     ]
    }
   ],
   "source": [
    "data1 = [0, 1, 2, 3, 4, 5, 0.1, 0.2, -3, -2, -1, 3, 2, 1]\n",
    "shape1 = [5, 2]\n",
    "tensor1 = Tensor(data1, shape1)"
   ]
  },
  {
   "cell_type": "code",
   "execution_count": null,
   "id": "2c39683b",
   "metadata": {},
   "outputs": [],
   "source": []
  }
 ],
 "metadata": {
  "kernelspec": {
   "display_name": "3.11.14",
   "language": "python",
   "name": "python3"
  },
  "language_info": {
   "codemirror_mode": {
    "name": "ipython",
    "version": 3
   },
   "file_extension": ".py",
   "mimetype": "text/x-python",
   "name": "python",
   "nbconvert_exporter": "python",
   "pygments_lexer": "ipython3",
   "version": "3.11.14"
  }
 },
 "nbformat": 4,
 "nbformat_minor": 5
}
